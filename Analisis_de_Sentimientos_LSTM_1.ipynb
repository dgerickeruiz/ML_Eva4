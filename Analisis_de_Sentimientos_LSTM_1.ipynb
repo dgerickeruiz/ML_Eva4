{
  "cells": [
    {
      "cell_type": "markdown",
      "metadata": {
        "id": "ep6ZE8LnwiF0"
      },
      "source": [
        "# Trabajar el dataset"
      ]
    },
    {
      "cell_type": "code",
      "execution_count": 1,
      "metadata": {
        "colab": {
          "base_uri": "https://localhost:8080/"
        },
        "collapsed": true,
        "id": "bct5Tf1xlg7m",
        "outputId": "78cdd02d-e0e6-4287-daf2-711440cd9123"
      },
      "outputs": [],
      "source": [
        "#!pip install tensorflow\n",
        "#!pip install keras\n",
        "import pandas as pd\n",
        "import tensorflow as tf\n",
        "from tensorflow import keras\n",
        "from tensorflow.keras.preprocessing.text import Tokenizer\n",
        "from tensorflow.keras.preprocessing.sequence import pad_sequences"
      ]
    },
    {
      "cell_type": "code",
      "execution_count": 2,
      "metadata": {
        "id": "LBHfJ4hdlpOc"
      },
      "outputs": [],
      "source": [
        "import pandas as pd\n",
        "\n",
        "#splits = {'train': 'train.parquet', 'validation': 'validation.parquet', 'test': 'test.parquet'}\n",
        "#df = pd.read_parquet(\"hf://datasets/cornell-movie-review-data/erotten_tomatos/\" + splits[\"train\"])\n",
        "\n",
        "# Leer el dataset local\n",
        "df = pd.read_csv('dataset/dataset_procesado.csv')\n",
        "\n",
        "# df = pd.read_csv('/content/TestReviews.csv')\n",
        "# df\n",
        "# 0 negativo\n",
        "# 1 positivo"
      ]
    },
    {
      "cell_type": "code",
      "execution_count": 3,
      "metadata": {
        "colab": {
          "base_uri": "https://localhost:8080/"
        },
        "id": "2btcD8TGxOi9",
        "outputId": "8b3393fe-caa6-4a66-fd7d-a672319314e1"
      },
      "outputs": [
        {
          "data": {
            "text/plain": [
              "array([1, 0])"
            ]
          },
          "execution_count": 3,
          "metadata": {},
          "output_type": "execute_result"
        }
      ],
      "source": [
        "df[\"label\"].unique()"
      ]
    },
    {
      "cell_type": "code",
      "execution_count": 4,
      "metadata": {
        "colab": {
          "base_uri": "https://localhost:8080/"
        },
        "id": "YxRjRlFmy3uG",
        "outputId": "c70ec253-47d8-4fae-f4e7-096c9b47fd6a"
      },
      "outputs": [
        {
          "name": "stdout",
          "output_type": "stream",
          "text": [
            "Tamaño del conjunto de entrenamiento: 6824\n",
            "Tamaño del conjunto de prueba: 1706\n"
          ]
        }
      ],
      "source": [
        "from sklearn.model_selection import train_test_split\n",
        "\n",
        "#X_train, X_test, y_train, y_test = train_test_split(df['text'], df['label'], test_size=0.2, random_state=42)\n",
        "X_train, X_test, y_train, y_test = train_test_split(df['text_procesado'], df['label'], test_size=0.2, random_state=42)\n",
        "\n",
        "\n",
        "\n",
        "# Ahora puedes usar train_df para entrenar y test_df para evaluar tu modelo\n",
        "print(\"Tamaño del conjunto de entrenamiento:\", len(X_train))\n",
        "print(\"Tamaño del conjunto de prueba:\", len(X_test))\n",
        "\n"
      ]
    },
    {
      "cell_type": "markdown",
      "metadata": {
        "id": "teabFHLlucxk"
      },
      "source": [
        "# Ejemplo con random forest"
      ]
    },
    {
      "cell_type": "code",
      "execution_count": null,
      "metadata": {
        "colab": {
          "base_uri": "https://localhost:8080/",
          "height": 633
        },
        "collapsed": true,
        "id": "kGVFt62tuKht",
        "outputId": "36f4651f-10e3-46d4-c367-c47ce57736f3"
      },
      "outputs": [],
      "source": [
        "\n",
        "\n",
        "from sklearn.model_selection import train_test_split\n",
        "from sklearn.feature_extraction.text import TfidfVectorizer\n",
        "from sklearn.ensemble import RandomForestClassifier\n",
        "from sklearn.metrics import accuracy_score, precision_score, recall_score, f1_score, confusion_matrix\n",
        "import seaborn as sns\n",
        "import matplotlib.pyplot as plt\n",
        "\n",
        "\n",
        "# Vectorización usando TF-IDF\n",
        "vectorizer = TfidfVectorizer()\n",
        "X_train_vec = vectorizer.fit_transform(X_train)\n",
        "X_test_vec = vectorizer.transform(X_test)\n",
        "\n",
        "# Entrenar el modelo RandomForest\n",
        "rf_classifier = RandomForestClassifier(n_estimators=100, random_state=42) # Ajusta n_estimators según sea necesario\n",
        "rf_classifier.fit(X_train_vec, y_train)\n",
        "\n",
        "# Predicciones\n",
        "y_pred = rf_classifier.predict(X_test_vec)\n",
        "\n",
        "# Métricas\n",
        "accuracy = accuracy_score(y_test, y_pred)\n",
        "precision = precision_score(y_test, y_pred)\n",
        "recall = recall_score(y_test, y_pred)\n",
        "f1 = f1_score(y_test, y_pred)\n",
        "\n",
        "print(f\"Exactitud: {accuracy}\")\n",
        "print(f\"Precisión: {precision}\")\n",
        "print(f\"Sensibilidad (Recall): {recall}\")\n",
        "print(f\"Puntuación F1: {f1}\")\n",
        "\n",
        "# Matriz de confusión\n",
        "conf_matrix = confusion_matrix(y_test, y_pred)\n",
        "\n",
        "# Visualizar la matriz de confusión\n",
        "plt.figure(figsize=(8, 6))\n",
        "sns.heatmap(conf_matrix, annot=True, fmt=\"d\", cmap=\"Blues\",\n",
        "            xticklabels=[\"Negativa\", \"Positiva\"], yticklabels=[\"Negativa\", \"Positiva\"])\n",
        "plt.xlabel(\"Predicción\")\n",
        "plt.ylabel(\"Valor Real\")\n",
        "plt.title(\"Matriz de Confusión\")\n",
        "plt.show()"
      ]
    },
    {
      "cell_type": "markdown",
      "metadata": {
        "id": "qmqMfBqzufw0"
      },
      "source": [
        "# Ejemplo con Naive Bayes"
      ]
    },
    {
      "cell_type": "code",
      "execution_count": null,
      "metadata": {
        "colab": {
          "base_uri": "https://localhost:8080/",
          "height": 633
        },
        "id": "IUvaC8uGuiWc",
        "outputId": "f1169b37-b589-4ef3-c3f7-cb407103acb7"
      },
      "outputs": [],
      "source": [
        "\n",
        "\n",
        "from sklearn.naive_bayes import MultinomialNB\n",
        "from sklearn.feature_extraction.text import CountVectorizer\n",
        "\n",
        "# Vectorización usando CountVectorizer (para Naive Bayes)\n",
        "vectorizer = CountVectorizer()\n",
        "X_train_vec = vectorizer.fit_transform(X_train)\n",
        "X_test_vec = vectorizer.transform(X_test)\n",
        "\n",
        "# Entrenar el modelo Naive Bayes\n",
        "nb_classifier = MultinomialNB()\n",
        "nb_classifier.fit(X_train_vec, y_train)\n",
        "\n",
        "# Predicciones\n",
        "y_pred = nb_classifier.predict(X_test_vec)\n",
        "\n",
        "# Métricas\n",
        "accuracy = accuracy_score(y_test, y_pred)\n",
        "precision = precision_score(y_test, y_pred)\n",
        "recall = recall_score(y_test, y_pred)\n",
        "f1 = f1_score(y_test, y_pred)\n",
        "\n",
        "print(f\"Exactitud: {accuracy}\")\n",
        "print(f\"Precisión: {precision}\")\n",
        "print(f\"Sensibilidad (Recall): {recall}\")\n",
        "print(f\"Puntuación F1: {f1}\")\n",
        "\n",
        "# Matriz de confusión\n",
        "conf_matrix = confusion_matrix(y_test, y_pred)\n",
        "\n",
        "# Visualizar la matriz de confusión\n",
        "plt.figure(figsize=(8, 6))\n",
        "sns.heatmap(conf_matrix, annot=True, fmt=\"d\", cmap=\"Blues\",\n",
        "            xticklabels=[\"Negativa\", \"Positiva\"], yticklabels=[\"Negativa\", \"Positiva\"])\n",
        "plt.xlabel(\"Predicción\")\n",
        "plt.ylabel(\"Valor Real\")\n",
        "plt.title(\"Matriz de Confusión\")\n",
        "plt.show()"
      ]
    },
    {
      "cell_type": "markdown",
      "metadata": {
        "id": "RfDpEZOVu50V"
      },
      "source": [
        "# Ejemplo de Arbol de decision DT"
      ]
    },
    {
      "cell_type": "code",
      "execution_count": null,
      "metadata": {
        "colab": {
          "base_uri": "https://localhost:8080/",
          "height": 633
        },
        "id": "y7pxrDvuu9IE",
        "outputId": "6fef4d1a-d70a-4747-b9ed-5f5ab7ebe9bb"
      },
      "outputs": [],
      "source": [
        "\n",
        "\n",
        "from sklearn.tree import DecisionTreeClassifier\n",
        "\n",
        "# Vectorización usando TF-IDF (puedes usar CountVectorizer también)\n",
        "vectorizer = TfidfVectorizer()\n",
        "X_train_vec = vectorizer.fit_transform(X_train)\n",
        "X_test_vec = vectorizer.transform(X_test)\n",
        "\n",
        "# Entrenar el modelo de Árbol de Decisión\n",
        "dt_classifier = DecisionTreeClassifier(random_state=42)  # Puedes ajustar hiperparámetros aquí\n",
        "dt_classifier.fit(X_train_vec, y_train)\n",
        "\n",
        "# Predicciones\n",
        "y_pred = dt_classifier.predict(X_test_vec)\n",
        "\n",
        "# Métricas\n",
        "accuracy = accuracy_score(y_test, y_pred)\n",
        "precision = precision_score(y_test, y_pred)\n",
        "recall = recall_score(y_test, y_pred)\n",
        "f1 = f1_score(y_test, y_pred)\n",
        "\n",
        "print(f\"Exactitud: {accuracy}\")\n",
        "print(f\"Precisión: {precision}\")\n",
        "print(f\"Sensibilidad (Recall): {recall}\")\n",
        "print(f\"Puntuación F1: {f1}\")\n",
        "\n",
        "# Matriz de confusión\n",
        "conf_matrix = confusion_matrix(y_test, y_pred)\n",
        "\n",
        "# Visualizar la matriz de confusión\n",
        "plt.figure(figsize=(8, 6))\n",
        "sns.heatmap(conf_matrix, annot=True, fmt=\"d\", cmap=\"Blues\",\n",
        "            xticklabels=[\"Negativa\", \"Positiva\"], yticklabels=[\"Negativa\", \"Positiva\"])\n",
        "plt.xlabel(\"Predicción\")\n",
        "plt.ylabel(\"Valor Real\")\n",
        "plt.title(\"Matriz de Confusión - Árbol de Decisión\")\n",
        "plt.show()"
      ]
    },
    {
      "cell_type": "markdown",
      "metadata": {
        "id": "UojZxboqwXmu"
      },
      "source": [
        "# Deep Learning"
      ]
    },
    {
      "cell_type": "code",
      "execution_count": 5,
      "metadata": {
        "colab": {
          "base_uri": "https://localhost:8080/"
        },
        "id": "14XSQihylmR5",
        "outputId": "a9192625-36b2-4eb2-ce33-579050b961ff"
      },
      "outputs": [
        {
          "name": "stderr",
          "output_type": "stream",
          "text": [
            "d:\\INACAP\\2024 Ingenieria\\8vo semestre\\Machine Learning\\Unidad 4\\ML_Eva4\\ML_Eva4\\Lib\\site-packages\\keras\\src\\layers\\core\\embedding.py:97: UserWarning: Argument `input_length` is deprecated. Just remove it.\n",
            "  warnings.warn(\n"
          ]
        },
        {
          "name": "stdout",
          "output_type": "stream",
          "text": [
            "Epoch 1/5\n",
            "\u001b[1m214/214\u001b[0m \u001b[32m━━━━━━━━━━━━━━━━━━━━\u001b[0m\u001b[37m\u001b[0m \u001b[1m3s\u001b[0m 4ms/step - accuracy: 0.5301 - loss: 0.6902\n",
            "Epoch 2/5\n",
            "\u001b[1m214/214\u001b[0m \u001b[32m━━━━━━━━━━━━━━━━━━━━\u001b[0m\u001b[37m\u001b[0m \u001b[1m1s\u001b[0m 4ms/step - accuracy: 0.6306 - loss: 0.6487\n",
            "Epoch 3/5\n",
            "\u001b[1m214/214\u001b[0m \u001b[32m━━━━━━━━━━━━━━━━━━━━\u001b[0m\u001b[37m\u001b[0m \u001b[1m1s\u001b[0m 4ms/step - accuracy: 0.6144 - loss: 0.6444\n",
            "Epoch 4/5\n",
            "\u001b[1m214/214\u001b[0m \u001b[32m━━━━━━━━━━━━━━━━━━━━\u001b[0m\u001b[37m\u001b[0m \u001b[1m1s\u001b[0m 4ms/step - accuracy: 0.6273 - loss: 0.6410\n",
            "Epoch 5/5\n",
            "\u001b[1m214/214\u001b[0m \u001b[32m━━━━━━━━━━━━━━━━━━━━\u001b[0m\u001b[37m\u001b[0m \u001b[1m1s\u001b[0m 4ms/step - accuracy: 0.6208 - loss: 0.6410\n"
          ]
        },
        {
          "data": {
            "text/plain": [
              "<keras.src.callbacks.history.History at 0x20d1bf57650>"
            ]
          },
          "execution_count": 5,
          "metadata": {},
          "output_type": "execute_result"
        }
      ],
      "source": [
        "# Preprocesamiento del texto\n",
        "tokenizer = Tokenizer(num_words=100) # Ajusta el número de palabras según tus datos\n",
        "tokenizer.fit_on_texts(X_train)\n",
        "secuencias = tokenizer.texts_to_sequences(X_train)\n",
        "secuencias_padding = pad_sequences(secuencias)\n",
        "\n",
        "# Definir el modelo LSTM\n",
        "modelo = keras.Sequential([\n",
        "    keras.layers.Embedding(100, 16, input_length=secuencias_padding.shape[1]),\n",
        "    keras.layers.LSTM(32),\n",
        "    keras.layers.Dense(1, activation='sigmoid')\n",
        "])\n",
        "\n",
        "# Compilar el modelo\n",
        "modelo.compile(optimizer='adam',\n",
        "              loss='binary_crossentropy',\n",
        "              metrics=['accuracy'])\n",
        "\n",
        "# Entrenar el modelo\n",
        "modelo.fit(secuencias_padding, y_train, epochs=5) # Ajusta el número de épocas según tus datos\n"
      ]
    },
    {
      "cell_type": "code",
      "execution_count": 6,
      "metadata": {
        "colab": {
          "base_uri": "https://localhost:8080/"
        },
        "id": "M9UlgoO3lL9r",
        "outputId": "c72c6add-2795-4101-94cf-f1b2b6bfef43"
      },
      "outputs": [
        {
          "data": {
            "text/plain": [
              "array([[ 0,  0,  0, ...,  0,  0, 24],\n",
              "       [ 0,  0,  0, ...,  0,  0, 50],\n",
              "       [ 0,  0,  0, ..., 99, 92, 55],\n",
              "       ...,\n",
              "       [ 0,  0,  0, ..., 66, 40, 36],\n",
              "       [ 0,  0,  0, ...,  0,  0, 90],\n",
              "       [ 0,  0,  0, ..., 97,  1,  8]], dtype=int32)"
            ]
          },
          "execution_count": 6,
          "metadata": {},
          "output_type": "execute_result"
        }
      ],
      "source": [
        "secuencias_padding"
      ]
    },
    {
      "cell_type": "code",
      "execution_count": 7,
      "metadata": {
        "colab": {
          "base_uri": "https://localhost:8080/"
        },
        "id": "v8HFjgOi1PH3",
        "outputId": "c9159660-147d-418e-a34f-28104271eb54"
      },
      "outputs": [
        {
          "name": "stdout",
          "output_type": "stream",
          "text": [
            "\u001b[1m54/54\u001b[0m \u001b[32m━━━━━━━━━━━━━━━━━━━━\u001b[0m\u001b[37m\u001b[0m \u001b[1m0s\u001b[0m 4ms/step\n"
          ]
        }
      ],
      "source": [
        "secuencia_nueva = tokenizer.texts_to_sequences(X_test)\n",
        "secuencia_padding_nueva = pad_sequences(secuencia_nueva, maxlen=secuencias_padding.shape[1]) # Asegúrate de que tenga la misma longitud que las secuencias de entrenamiento\n",
        "y_predict = modelo.predict(secuencia_padding_nueva)"
      ]
    },
    {
      "cell_type": "code",
      "execution_count": 8,
      "metadata": {
        "colab": {
          "base_uri": "https://localhost:8080/",
          "height": 633
        },
        "id": "NwN7jJdo1gZw",
        "outputId": "c30556f4-672e-4136-9561-b0ed1efc6356"
      },
      "outputs": [
        {
          "name": "stdout",
          "output_type": "stream",
          "text": [
            "Exactitud: 0.6066822977725674\n",
            "Precisión: 0.6458658346333853\n",
            "Sensibilidad (Recall): 0.4825174825174825\n",
            "Puntuación F1: 0.552368245496998\n"
          ]
        },
        {
          "data": {
            "image/png": "[encoded data removed]",
            "text/plain": [
              "<Figure size 800x600 with 2 Axes>"
            ]
          },
          "metadata": {},
          "output_type": "display_data"
        }
      ],
      "source": [
        "\n",
        "import numpy as np\n",
        "from sklearn.metrics import confusion_matrix, accuracy_score, precision_score, recall_score, f1_score, roc_auc_score\n",
        "import matplotlib.pyplot as plt\n",
        "import seaborn as sns\n",
        "\n",
        "# Convertir las probabilidades predichas a clases (0 o 1)\n",
        "y_pred_classes = (y_predict > 0.5).astype(int)\n",
        "\n",
        "# Calcular las métricas\n",
        "accuracy = accuracy_score(y_test, y_pred_classes)\n",
        "precision = precision_score(y_test, y_pred_classes)\n",
        "recall = recall_score(y_test, y_pred_classes)\n",
        "f1 = f1_score(y_test, y_pred_classes)\n",
        "\n",
        "print(f\"Exactitud: {accuracy}\")\n",
        "print(f\"Precisión: {precision}\")\n",
        "print(f\"Sensibilidad (Recall): {recall}\")\n",
        "print(f\"Puntuación F1: {f1}\")\n",
        "\n",
        "\n",
        "# Calcular la matriz de confusión\n",
        "conf_matrix = confusion_matrix(y_test, y_pred_classes)\n",
        "\n",
        "# Visualizar la matriz de confusión\n",
        "plt.figure(figsize=(8, 6))\n",
        "sns.heatmap(conf_matrix, annot=True, fmt=\"d\", cmap=\"Blues\",\n",
        "            xticklabels=[\"Negativa\", \"Positiva\"], yticklabels=[\"Negativa\", \"Positiva\"])\n",
        "plt.xlabel(\"Predicción\")\n",
        "plt.ylabel(\"Valor Real\")\n",
        "plt.title(\"Matriz de Confusión\")\n",
        "plt.show()\n",
        "\n"
      ]
    },
    {
      "cell_type": "code",
      "execution_count": 9,
      "metadata": {},
      "outputs": [
        {
          "name": "stdout",
          "output_type": "stream",
          "text": [
            "Input name: input_layer\n",
            "Input shape: ['unk__264', 100]\n",
            "Input type: tensor(float)\n"
          ]
        }
      ],
      "source": [
        "import onnxruntime as ort\n",
        "\n",
        "onnx_session = ort.InferenceSession('models/lstm_model.onnx')\n",
        "input_info = onnx_session.get_inputs()[0]\n",
        "print(\"Input name:\", input_info.name)\n",
        "print(\"Input shape:\", input_info.shape)\n",
        "print(\"Input type:\", input_info.type)\n"
      ]
    }
  ],
  "metadata": {
    "accelerator": "GPU",
    "colab": {
      "collapsed_sections": [
        "teabFHLlucxk",
        "qmqMfBqzufw0",
        "RfDpEZOVu50V",
        "UojZxboqwXmu"
      ],
      "gpuType": "T4",
      "provenance": []
    },
    "kernelspec": {
      "display_name": "ML_Eva4",
      "language": "python",
      "name": "python3"
    },
    "language_info": {
      "codemirror_mode": {
        "name": "ipython",
        "version": 3
      },
      "file_extension": ".py",
      "mimetype": "text/x-python",
      "name": "python",
      "nbconvert_exporter": "python",
      "pygments_lexer": "ipython3",
      "version": "3.12.5"
    }
  },
  "nbformat": 4,
  "nbformat_minor": 0
}
